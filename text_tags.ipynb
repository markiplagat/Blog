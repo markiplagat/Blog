{
  "nbformat": 4,
  "nbformat_minor": 0,
  "metadata": {
    "colab": {
      "name": "text-tags",
      "provenance": [],
      "collapsed_sections": [],
      "include_colab_link": true
    },
    "kernelspec": {
      "display_name": "Python 3",
      "name": "python3"
    }
  },
  "cells": [
    {
      "cell_type": "markdown",
      "metadata": {
        "id": "view-in-github",
        "colab_type": "text"
      },
      "source": [
        "<a href=\"https://colab.research.google.com/github/markiplagat/Blog/blob/master/text_tags.ipynb\" target=\"_parent\"><img src=\"https://colab.research.google.com/assets/colab-badge.svg\" alt=\"Open In Colab\"/></a>"
      ]
    },
    {
      "cell_type": "markdown",
      "metadata": {
        "id": "oYo4dq3F46f2"
      },
      "source": [
        "Setting up"
      ]
    },
    {
      "cell_type": "code",
      "metadata": {
        "id": "X8tJ4VolTe7K"
      },
      "source": [
        "!pip install Colabcode\n",
        "!pip install FastAPI\n"
      ],
      "execution_count": null,
      "outputs": []
    },
    {
      "cell_type": "code",
      "metadata": {
        "id": "8wqpr5b4T-Ku"
      },
      "source": [
        "from colabcode import ColabCode\n",
        "from fastapi import FastAPI\n"
      ],
      "execution_count": 13,
      "outputs": []
    },
    {
      "cell_type": "code",
      "metadata": {
        "id": "0EaX0nWwVmJ0"
      },
      "source": [
        "cc = ColabCode(port=15000, code=False)"
      ],
      "execution_count": 15,
      "outputs": []
    },
    {
      "cell_type": "code",
      "metadata": {
        "id": "9adBSa03VItm"
      },
      "source": [
        "app = FastAPI()\n",
        "@app.get(\"/\")\n",
        "async def read_root():\n",
        "  return {\"Served\"}"
      ],
      "execution_count": 16,
      "outputs": []
    },
    {
      "cell_type": "code",
      "metadata": {
        "colab": {
          "base_uri": "https://localhost:8080/"
        },
        "id": "nAolA84MV2Jx",
        "outputId": "3a1cf3cd-0346-47b2-c362-a50a4ab910d1"
      },
      "source": [
        "cc.run_app(app=app)"
      ],
      "execution_count": 17,
      "outputs": [
        {
          "output_type": "stream",
          "text": [
            "Public URL: NgrokTunnel: \"http://4d80fc53836f.ngrok.io\" -> \"http://localhost:15000\"\n"
          ],
          "name": "stdout"
        },
        {
          "output_type": "stream",
          "text": [
            "INFO:     Started server process [58]\n",
            "INFO:     Waiting for application startup.\n",
            "INFO:     Application startup complete.\n",
            "INFO:     Uvicorn running on http://127.0.0.1:15000 (Press CTRL+C to quit)\n"
          ],
          "name": "stderr"
        },
        {
          "output_type": "stream",
          "text": [
            "INFO:     41.80.96.183:0 - \"GET / HTTP/1.1\" 200 OK\n",
            "INFO:     41.80.96.183:0 - \"GET /favicon.ico HTTP/1.1\" 404 Not Found\n"
          ],
          "name": "stdout"
        },
        {
          "output_type": "stream",
          "text": [
            "INFO:     Shutting down\n",
            "INFO:     Waiting for application shutdown.\n",
            "INFO:     Application shutdown complete.\n",
            "INFO:     Finished server process [58]\n"
          ],
          "name": "stderr"
        }
      ]
    },
    {
      "cell_type": "code",
      "metadata": {
        "id": "-L0BdpBtkySE"
      },
      "source": [
        "#from __future__ import absolute_import, division, print_function\n",
        "import tensorflow as tf\n",
        "#import tensorflow_hub as hub\n",
        "import tensorflow_datasets as tfds\n",
        "from tensorflow import keras\n",
        "import numpy as np\n",
        "import random\n",
        "import json\n",
        "import matplotlib.pyplot as plt\n",
        "import tempfile\n",
        "import os"
      ],
      "execution_count": 1,
      "outputs": []
    },
    {
      "cell_type": "markdown",
      "metadata": {
        "id": "21ldgx-98Ibr"
      },
      "source": [
        "import a dataset"
      ]
    },
    {
      "cell_type": "code",
      "metadata": {
        "id": "qcz_cSqhFYe6"
      },
      "source": [
        "#obtain model directory\n",
        "Model_Directory = tempfile.gettempdir()"
      ],
      "execution_count": 2,
      "outputs": []
    },
    {
      "cell_type": "code",
      "metadata": {
        "colab": {
          "base_uri": "https://localhost:8080/",
          "height": 35
        },
        "id": "KCQOL0KBG6C3",
        "outputId": "f863ec09-9f73-4ff4-e4ae-e334bfb5ecc1"
      },
      "source": [
        "Model_Directory"
      ],
      "execution_count": 3,
      "outputs": [
        {
          "output_type": "execute_result",
          "data": {
            "application/vnd.google.colaboratory.intrinsic+json": {
              "type": "string"
            },
            "text/plain": [
              "'/tmp'"
            ]
          },
          "metadata": {
            "tags": []
          },
          "execution_count": 3
        }
      ]
    },
    {
      "cell_type": "code",
      "metadata": {
        "id": "aHkGhIbSG908"
      },
      "source": [
        "#specify model version number\n",
        "version = 1"
      ],
      "execution_count": 4,
      "outputs": []
    },
    {
      "cell_type": "code",
      "metadata": {
        "id": "BJgxm1ZoHgtq"
      },
      "source": [
        "#join temp model dir with a version number\n",
        "export_path = os.path.join(Model_Directory, str(version))\n",
        "print('export_path = {}\\n'.format(export_path))"
      ],
      "execution_count": null,
      "outputs": []
    },
    {
      "cell_type": "code",
      "metadata": {
        "id": "8FZSHpCuQg8s",
        "colab": {
          "base_uri": "https://localhost:8080/",
          "height": 0
        },
        "outputId": "84b42c24-9df0-4d89-f720-4899708f2029"
      },
      "source": [
        "!ls -l {export_path}"
      ],
      "execution_count": 10,
      "outputs": [
        {
          "output_type": "stream",
          "text": [
            "ls: cannot access '/tmp/1': No such file or directory\n"
          ],
          "name": "stdout"
        }
      ]
    }
  ]
}